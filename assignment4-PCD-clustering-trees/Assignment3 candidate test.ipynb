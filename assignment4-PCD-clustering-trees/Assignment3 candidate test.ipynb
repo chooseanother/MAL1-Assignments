{
 "cells": [
  {
   "cell_type": "code",
   "execution_count": 1,
   "metadata": {},
   "outputs": [],
   "source": [
    "import pandas as pd"
   ]
  },
  {
   "cell_type": "code",
   "execution_count": 5,
   "metadata": {},
   "outputs": [],
   "source": [
    "all_data = pd.read_excel('alldata.xlsx')\n",
    "dr_dara = pd.read_excel('drdata.xlsx')\n",
    "dr_q = pd.read_excel('drq.xlsx')\n",
    "tv2_data = pd.read_excel('tv2data.xlsx')\n",
    "tv2_q = pd.read_excel('tv2q.xlsx')\n",
    "elected_data = pd.read_excel('electeddata.xlsx')"
   ]
  },
  {
   "cell_type": "code",
   "execution_count": 4,
   "metadata": {},
   "outputs": [
    {
     "name": "stdout",
     "output_type": "stream",
     "text": [
      "<class 'pandas.core.frame.DataFrame'>\n",
      "RangeIndex: 867 entries, 0 to 866\n",
      "Data columns (total 53 columns):\n",
      " #   Column     Non-Null Count  Dtype \n",
      "---  ------     --------------  ----- \n",
      " 0   530        867 non-null    int64 \n",
      " 1   531        867 non-null    int64 \n",
      " 2   533        867 non-null    int64 \n",
      " 3   534        867 non-null    int64 \n",
      " 4   535        867 non-null    int64 \n",
      " 5   537        867 non-null    int64 \n",
      " 6   538        867 non-null    int64 \n",
      " 7   540        867 non-null    int64 \n",
      " 8   541        867 non-null    int64 \n",
      " 9   543        867 non-null    int64 \n",
      " 10  544        867 non-null    int64 \n",
      " 11  545        867 non-null    int64 \n",
      " 12  546        867 non-null    int64 \n",
      " 13  547        867 non-null    int64 \n",
      " 14  548        867 non-null    int64 \n",
      " 15  550        867 non-null    int64 \n",
      " 16  551        867 non-null    int64 \n",
      " 17  552        867 non-null    int64 \n",
      " 18  553        867 non-null    int64 \n",
      " 19  555        867 non-null    int64 \n",
      " 20  556        867 non-null    int64 \n",
      " 21  557        867 non-null    int64 \n",
      " 22  559        867 non-null    int64 \n",
      " 23  561        867 non-null    int64 \n",
      " 24  563        867 non-null    int64 \n",
      " 25  navn       867 non-null    object\n",
      " 26  parti      867 non-null    object\n",
      " 27  1a         867 non-null    int64 \n",
      " 28  1b         867 non-null    int64 \n",
      " 29  2a         867 non-null    int64 \n",
      " 30  2b         867 non-null    int64 \n",
      " 31  3a         867 non-null    int64 \n",
      " 32  3b         867 non-null    int64 \n",
      " 33  4a         867 non-null    int64 \n",
      " 34  4b         867 non-null    int64 \n",
      " 35  5a         867 non-null    int64 \n",
      " 36  5b         867 non-null    int64 \n",
      " 37  6a         867 non-null    int64 \n",
      " 38  6b         867 non-null    int64 \n",
      " 39  7a         867 non-null    int64 \n",
      " 40  7b         867 non-null    int64 \n",
      " 41  8a         867 non-null    int64 \n",
      " 42  8b         867 non-null    int64 \n",
      " 43  9a         867 non-null    int64 \n",
      " 44  9b         867 non-null    int64 \n",
      " 45  10a        867 non-null    int64 \n",
      " 46  10b        867 non-null    int64 \n",
      " 47  11a        867 non-null    int64 \n",
      " 48  11b        867 non-null    int64 \n",
      " 49  12a        867 non-null    int64 \n",
      " 50  12b        867 non-null    int64 \n",
      " 51  storkreds  867 non-null    object\n",
      " 52  alder      867 non-null    int64 \n",
      "dtypes: int64(50), object(3)\n",
      "memory usage: 359.1+ KB\n"
     ]
    }
   ],
   "source": [
    "all_data.info()"
   ]
  },
  {
   "cell_type": "code",
   "execution_count": 6,
   "metadata": {},
   "outputs": [
    {
     "name": "stdout",
     "output_type": "stream",
     "text": [
      "<class 'pandas.core.frame.DataFrame'>\n",
      "RangeIndex: 904 entries, 0 to 903\n",
      "Data columns (total 27 columns):\n",
      " #   Column  Non-Null Count  Dtype \n",
      "---  ------  --------------  ----- \n",
      " 0   530     904 non-null    int64 \n",
      " 1   531     904 non-null    int64 \n",
      " 2   533     904 non-null    int64 \n",
      " 3   534     904 non-null    int64 \n",
      " 4   535     904 non-null    int64 \n",
      " 5   537     904 non-null    int64 \n",
      " 6   538     904 non-null    int64 \n",
      " 7   540     904 non-null    int64 \n",
      " 8   541     904 non-null    int64 \n",
      " 9   543     904 non-null    int64 \n",
      " 10  544     904 non-null    int64 \n",
      " 11  545     904 non-null    int64 \n",
      " 12  546     904 non-null    int64 \n",
      " 13  547     904 non-null    int64 \n",
      " 14  548     904 non-null    int64 \n",
      " 15  550     904 non-null    int64 \n",
      " 16  551     904 non-null    int64 \n",
      " 17  552     904 non-null    int64 \n",
      " 18  553     904 non-null    int64 \n",
      " 19  555     904 non-null    int64 \n",
      " 20  556     904 non-null    int64 \n",
      " 21  557     904 non-null    int64 \n",
      " 22  559     904 non-null    int64 \n",
      " 23  561     904 non-null    int64 \n",
      " 24  563     904 non-null    int64 \n",
      " 25  navn    904 non-null    object\n",
      " 26  parti   904 non-null    object\n",
      "dtypes: int64(25), object(2)\n",
      "memory usage: 190.8+ KB\n"
     ]
    }
   ],
   "source": [
    "dr_dara.info()"
   ]
  },
  {
   "cell_type": "code",
   "execution_count": 7,
   "metadata": {},
   "outputs": [
    {
     "name": "stdout",
     "output_type": "stream",
     "text": [
      "<class 'pandas.core.frame.DataFrame'>\n",
      "RangeIndex: 25 entries, 0 to 24\n",
      "Data columns (total 10 columns):\n",
      " #   Column                    Non-Null Count  Dtype  \n",
      "---  ------                    --------------  -----  \n",
      " 0   ID                        25 non-null     int64  \n",
      " 1   Title                     25 non-null     object \n",
      " 2   Question                  25 non-null     object \n",
      " 3   Info                      0 non-null      float64\n",
      " 4   ArgumentFor               25 non-null     object \n",
      " 5   ArgumentAgainst           25 non-null     object \n",
      " 6   WordMerger                25 non-null     int64  \n",
      " 7   ID_CandidateQuestionType  25 non-null     int64  \n",
      " 8   Rule                      25 non-null     object \n",
      " 9   QuestionListData          0 non-null      float64\n",
      "dtypes: float64(2), int64(3), object(5)\n",
      "memory usage: 2.1+ KB\n"
     ]
    }
   ],
   "source": [
    "dr_q.info()"
   ]
  },
  {
   "cell_type": "code",
   "execution_count": 8,
   "metadata": {},
   "outputs": [
    {
     "name": "stdout",
     "output_type": "stream",
     "text": [
      "<class 'pandas.core.frame.DataFrame'>\n",
      "RangeIndex: 169 entries, 0 to 168\n",
      "Data columns (total 53 columns):\n",
      " #   Column     Non-Null Count  Dtype \n",
      "---  ------     --------------  ----- \n",
      " 0   530        169 non-null    int64 \n",
      " 1   531        169 non-null    int64 \n",
      " 2   533        169 non-null    int64 \n",
      " 3   534        169 non-null    int64 \n",
      " 4   535        169 non-null    int64 \n",
      " 5   537        169 non-null    int64 \n",
      " 6   538        169 non-null    int64 \n",
      " 7   540        169 non-null    int64 \n",
      " 8   541        169 non-null    int64 \n",
      " 9   543        169 non-null    int64 \n",
      " 10  544        169 non-null    int64 \n",
      " 11  545        169 non-null    int64 \n",
      " 12  546        169 non-null    int64 \n",
      " 13  547        169 non-null    int64 \n",
      " 14  548        169 non-null    int64 \n",
      " 15  550        169 non-null    int64 \n",
      " 16  551        169 non-null    int64 \n",
      " 17  552        169 non-null    int64 \n",
      " 18  553        169 non-null    int64 \n",
      " 19  555        169 non-null    int64 \n",
      " 20  556        169 non-null    int64 \n",
      " 21  557        169 non-null    int64 \n",
      " 22  559        169 non-null    int64 \n",
      " 23  561        169 non-null    int64 \n",
      " 24  563        169 non-null    int64 \n",
      " 25  navn       169 non-null    object\n",
      " 26  parti      169 non-null    object\n",
      " 27  1a         169 non-null    int64 \n",
      " 28  1b         169 non-null    int64 \n",
      " 29  2a         169 non-null    int64 \n",
      " 30  2b         169 non-null    int64 \n",
      " 31  3a         169 non-null    int64 \n",
      " 32  3b         169 non-null    int64 \n",
      " 33  4a         169 non-null    int64 \n",
      " 34  4b         169 non-null    int64 \n",
      " 35  5a         169 non-null    int64 \n",
      " 36  5b         169 non-null    int64 \n",
      " 37  6a         169 non-null    int64 \n",
      " 38  6b         169 non-null    int64 \n",
      " 39  7a         169 non-null    int64 \n",
      " 40  7b         169 non-null    int64 \n",
      " 41  8a         169 non-null    int64 \n",
      " 42  8b         169 non-null    int64 \n",
      " 43  9a         169 non-null    int64 \n",
      " 44  9b         169 non-null    int64 \n",
      " 45  10a        169 non-null    int64 \n",
      " 46  10b        169 non-null    int64 \n",
      " 47  11a        169 non-null    int64 \n",
      " 48  11b        169 non-null    int64 \n",
      " 49  12a        169 non-null    int64 \n",
      " 50  12b        169 non-null    int64 \n",
      " 51  storkreds  169 non-null    object\n",
      " 52  alder      169 non-null    int64 \n",
      "dtypes: int64(50), object(3)\n",
      "memory usage: 70.1+ KB\n"
     ]
    }
   ],
   "source": [
    "elected_data.info()"
   ]
  }
 ],
 "metadata": {
  "kernelspec": {
   "display_name": "Python 3",
   "language": "python",
   "name": "python3"
  },
  "language_info": {
   "codemirror_mode": {
    "name": "ipython",
    "version": 3
   },
   "file_extension": ".py",
   "mimetype": "text/x-python",
   "name": "python",
   "nbconvert_exporter": "python",
   "pygments_lexer": "ipython3",
   "version": "3.10.12"
  }
 },
 "nbformat": 4,
 "nbformat_minor": 2
}
